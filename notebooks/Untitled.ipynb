{
 "cells": [
  {
   "cell_type": "code",
   "execution_count": 2,
   "metadata": {},
   "outputs": [],
   "source": [
    "import numpy as np\n",
    "pattern_pos_list = np.array([[1,2,3], [3,4,5], [6,7,8,9], [8,9,10]])\n",
    "row = np.array([0, 0.1, 0.2, 0.6])"
   ]
  },
  {
   "cell_type": "code",
   "execution_count": null,
   "metadata": {},
   "outputs": [],
   "source": [
    "def find_index_of_pattern_center_and_members(dist_mat, pattern_pos_list, R):\n",
    "    \"\"\"Finds the index of the motif's center and members\"\"\"\n",
    "    count_subseq_list = [sum(row<R)-count_overlaps(pattern_pos_list[row<R]) for row in dist_mat]\n",
    "    max_count = max(count_subseq_list)\n",
    "    sum_dist_list = []\n",
    "    for i in range(len(dist_mat)):\n",
    "        if count_subseq_list[i]==max_count:\n",
    "            row = dist_mat[i]\n",
    "            pruned_members_index = prune_pattern_members()\n",
    "            sum_dist = sum([row[i] for i in pruned_members_index])\n",
    "        else:\n",
    "            sum_dist = np.inf\n",
    "        sum_dist_list.append(sum_dist)\n",
    "    center_index = np.argmin(sum_dist_list)\n",
    "    mean_dist = min(sum_dist_list[center_index])/float(count_subseq_list[center_index])\n",
    "    center_row = dist_mat[center_index]\n",
    "    members_index = prune_pattern_members()\n",
    "    # extract the center and members position in the subseq list\n",
    "    center_pos = pattern_pos_list[center_index]\n",
    "    members_pos = [pattern_pos_list[i] for i in members_index]\n",
    "    return center_pos, members_pos, mean_dist\n",
    "\n",
    "\n",
    "def prune_pattern_members():\n",
    "    members_in_radius_index = [index for index,value in enumerate(row) if value < R]\n",
    "    members_with_no_overlap_index = []\n",
    "    for j in range(len(members_in_radius_index)-1):\n",
    "        if lists_overlap(members_in_radius_index[i], members_in_radius_index[i+1]):\n",
    "            \n",
    "    return members_with_no_overlap_index\n",
    "\n",
    "\n",
    "def lists_overlap(l1, l2):\n",
    "    intersection_set = set(l1).intersection(set(l2))\n",
    "    overlaping_test = (len(intersection_set) > 0)\n",
    "    return overlaping_test\n",
    "\n",
    "\n",
    "def count_overlaps(point_list):\n",
    "    overlap_count = 0\n",
    "    for i in range(len(point_list)-1):\n",
    "        if lists_overlap(point_list[i], point_list[i+1]):\n",
    "            overlap_count = overlap_count + 1\n",
    "    return overlap_count"
   ]
  },
  {
   "cell_type": "code",
   "execution_count": 16,
   "metadata": {},
   "outputs": [
    {
     "data": {
      "text/plain": [
       "array([list([1, 2, 3]), list([3, 4, 5]), list([6, 7, 8, 9])], dtype=object)"
      ]
     },
     "execution_count": 16,
     "metadata": {},
     "output_type": "execute_result"
    }
   ],
   "source": [
    "R = 0.25\n",
    "pattern_pos_list[row < R]"
   ]
  },
  {
   "cell_type": "code",
   "execution_count": 24,
   "metadata": {},
   "outputs": [
    {
     "data": {
      "text/plain": [
       "False"
      ]
     },
     "execution_count": 24,
     "metadata": {},
     "output_type": "execute_result"
    }
   ],
   "source": [
    "lists_overlap([1, 2, 3], [4, 5])"
   ]
  },
  {
   "cell_type": "code",
   "execution_count": 26,
   "metadata": {},
   "outputs": [
    {
     "data": {
      "text/plain": [
       "1"
      ]
     },
     "execution_count": 26,
     "metadata": {},
     "output_type": "execute_result"
    }
   ],
   "source": [
    "count_overlaps(pattern_pos_list[row < R])"
   ]
  }
 ],
 "metadata": {
  "kernelspec": {
   "display_name": "Python 3",
   "language": "python",
   "name": "python3"
  },
  "language_info": {
   "codemirror_mode": {
    "name": "ipython",
    "version": 3
   },
   "file_extension": ".py",
   "mimetype": "text/x-python",
   "name": "python",
   "nbconvert_exporter": "python",
   "pygments_lexer": "ipython3",
   "version": "3.6.5"
  }
 },
 "nbformat": 4,
 "nbformat_minor": 2
}
