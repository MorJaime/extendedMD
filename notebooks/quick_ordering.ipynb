{
 "cells": [
  {
   "cell_type": "markdown",
   "metadata": {},
   "source": [
    "# Quick implementation - motifs ordering\n",
    "\n",
    "## Maria Inês Silva\n",
    "## 30/01/2019\n",
    "\n",
    "***"
   ]
  },
  {
   "cell_type": "code",
   "execution_count": 5,
   "metadata": {},
   "outputs": [],
   "source": [
    "import pandas as pd\n",
    "import numpy as np\n",
    "import matplotlib.pyplot as plt\n",
    "import pickle\n",
    "import os\n",
    "import seaborn as sns\n",
    "import matplotlib.pyplot as plt\n",
    "\n",
    "# extendedMD code\n",
    "import sys\n",
    "import os\n",
    "sys.path.insert(0, os.path.abspath('../'))\n",
    "from extendedMD.motif_viz import create_motif_table"
   ]
  },
  {
   "cell_type": "code",
   "execution_count": 2,
   "metadata": {},
   "outputs": [],
   "source": [
    "cwd = os.getcwd()\n",
    "data_folder = os.path.abspath(os.path.join(cwd, os.pardir, 'data'))\n",
    "output_folder = os.path.abspath(os.path.join(cwd, os.pardir, 'outputs/experiments_v4'))"
   ]
  },
  {
   "cell_type": "code",
   "execution_count": 3,
   "metadata": {},
   "outputs": [],
   "source": [
    "def load_motif_data(folder):\n",
    "    ts_1d = pickle.load(open(os.path.join(folder, \"ts_1d.p\"), \"rb\"))\n",
    "    mdl_cost_list = pickle.load(open(os.path.join(folder, \"mdl_cost.p\"), \"rb\"))\n",
    "    motif_point_list = pickle.load(open(os.path.join(folder, \"motif_point.p\"), \"rb\"))\n",
    "    motif_center_list = pickle.load(open(os.path.join(folder, \"motif_center.p\"), \"rb\"))\n",
    "    pattern_list = pickle.load(open(os.path.join(folder, \"patterns.p\"), \"rb\"))\n",
    "    mean_dist = pickle.load(open(os.path.join(folder, \"mean_dist.p\"), \"rb\"))\n",
    "    return ts_1d, mdl_cost_list, motif_point_list, motif_center_list, pattern_list, mean_dist"
   ]
  },
  {
   "cell_type": "markdown",
   "metadata": {},
   "source": [
    "## Data import"
   ]
  },
  {
   "cell_type": "code",
   "execution_count": 4,
   "metadata": {},
   "outputs": [],
   "source": [
    "folder = os.path.join(output_folder, 'trip_exp1')\n",
    "ts_1d, mdl_cost_list, motif_point_list, motif_center_list, pattern_list, mean_dist = load_motif_data(folder)"
   ]
  },
  {
   "cell_type": "code",
   "execution_count": 6,
   "metadata": {},
   "outputs": [
    {
     "data": {
      "text/html": [
       "<div>\n",
       "<style scoped>\n",
       "    .dataframe tbody tr th:only-of-type {\n",
       "        vertical-align: middle;\n",
       "    }\n",
       "\n",
       "    .dataframe tbody tr th {\n",
       "        vertical-align: top;\n",
       "    }\n",
       "\n",
       "    .dataframe thead th {\n",
       "        text-align: right;\n",
       "    }\n",
       "</style>\n",
       "<table border=\"1\" class=\"dataframe\">\n",
       "  <thead>\n",
       "    <tr style=\"text-align: right;\">\n",
       "      <th></th>\n",
       "      <th>pattern</th>\n",
       "      <th>pattern_len</th>\n",
       "      <th>n_members</th>\n",
       "      <th>mdl_cost</th>\n",
       "      <th>mean_dist</th>\n",
       "    </tr>\n",
       "  </thead>\n",
       "  <tbody>\n",
       "    <tr>\n",
       "      <th>50</th>\n",
       "      <td>[bdc]</td>\n",
       "      <td>1</td>\n",
       "      <td>240</td>\n",
       "      <td>47472.5</td>\n",
       "      <td>0.178033</td>\n",
       "    </tr>\n",
       "    <tr>\n",
       "      <th>26</th>\n",
       "      <td>[cbd]</td>\n",
       "      <td>1</td>\n",
       "      <td>235</td>\n",
       "      <td>47771.4</td>\n",
       "      <td>0.117668</td>\n",
       "    </tr>\n",
       "    <tr>\n",
       "      <th>21</th>\n",
       "      <td>[bcd]</td>\n",
       "      <td>1</td>\n",
       "      <td>212</td>\n",
       "      <td>48641.1</td>\n",
       "      <td>0.111195</td>\n",
       "    </tr>\n",
       "    <tr>\n",
       "      <th>16</th>\n",
       "      <td>[dbc]</td>\n",
       "      <td>1</td>\n",
       "      <td>220</td>\n",
       "      <td>48724.4</td>\n",
       "      <td>0.097910</td>\n",
       "    </tr>\n",
       "    <tr>\n",
       "      <th>44</th>\n",
       "      <td>[cdb]</td>\n",
       "      <td>1</td>\n",
       "      <td>215</td>\n",
       "      <td>49101.1</td>\n",
       "      <td>0.110176</td>\n",
       "    </tr>\n",
       "    <tr>\n",
       "      <th>30</th>\n",
       "      <td>[dcb]</td>\n",
       "      <td>1</td>\n",
       "      <td>211</td>\n",
       "      <td>49307.3</td>\n",
       "      <td>0.165575</td>\n",
       "    </tr>\n",
       "    <tr>\n",
       "      <th>40</th>\n",
       "      <td>[ccc]</td>\n",
       "      <td>1</td>\n",
       "      <td>197</td>\n",
       "      <td>50356.5</td>\n",
       "      <td>0.146100</td>\n",
       "    </tr>\n",
       "    <tr>\n",
       "      <th>4</th>\n",
       "      <td>[bbe]</td>\n",
       "      <td>1</td>\n",
       "      <td>178</td>\n",
       "      <td>50591.0</td>\n",
       "      <td>0.113258</td>\n",
       "    </tr>\n",
       "    <tr>\n",
       "      <th>45</th>\n",
       "      <td>[dda]</td>\n",
       "      <td>1</td>\n",
       "      <td>165</td>\n",
       "      <td>50634.6</td>\n",
       "      <td>0.113724</td>\n",
       "    </tr>\n",
       "    <tr>\n",
       "      <th>39</th>\n",
       "      <td>[add]</td>\n",
       "      <td>1</td>\n",
       "      <td>176</td>\n",
       "      <td>50677.8</td>\n",
       "      <td>0.118043</td>\n",
       "    </tr>\n",
       "  </tbody>\n",
       "</table>\n",
       "</div>"
      ],
      "text/plain": [
       "   pattern  pattern_len  n_members  mdl_cost  mean_dist\n",
       "50   [bdc]            1        240   47472.5   0.178033\n",
       "26   [cbd]            1        235   47771.4   0.117668\n",
       "21   [bcd]            1        212   48641.1   0.111195\n",
       "16   [dbc]            1        220   48724.4   0.097910\n",
       "44   [cdb]            1        215   49101.1   0.110176\n",
       "30   [dcb]            1        211   49307.3   0.165575\n",
       "40   [ccc]            1        197   50356.5   0.146100\n",
       "4    [bbe]            1        178   50591.0   0.113258\n",
       "45   [dda]            1        165   50634.6   0.113724\n",
       "39   [add]            1        176   50677.8   0.118043"
      ]
     },
     "execution_count": 6,
     "metadata": {},
     "output_type": "execute_result"
    }
   ],
   "source": [
    "motif_df = create_motif_table(pattern_list, motif_point_list, mdl_cost_list, mean_dist)\n",
    "motif_df.head(10)"
   ]
  },
  {
   "cell_type": "markdown",
   "metadata": {},
   "source": [
    "## Straight MDL ordering"
   ]
  },
  {
   "cell_type": "code",
   "execution_count": null,
   "metadata": {},
   "outputs": [],
   "source": [
    "def prune_motifs_with_mdl()"
   ]
  }
 ],
 "metadata": {
  "kernelspec": {
   "display_name": "Python 3",
   "language": "python",
   "name": "python3"
  },
  "language_info": {
   "codemirror_mode": {
    "name": "ipython",
    "version": 3
   },
   "file_extension": ".py",
   "mimetype": "text/x-python",
   "name": "python",
   "nbconvert_exporter": "python",
   "pygments_lexer": "ipython3",
   "version": "3.6.5"
  }
 },
 "nbformat": 4,
 "nbformat_minor": 2
}
