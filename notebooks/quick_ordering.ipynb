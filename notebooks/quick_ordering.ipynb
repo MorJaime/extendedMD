{
 "cells": [
  {
   "cell_type": "markdown",
   "metadata": {},
   "source": [
    "# Quick implementation - motifs ordering\n",
    "\n",
    "## Maria Inês Silva\n",
    "## 28/01/2019\n",
    "\n",
    "***"
   ]
  },
  {
   "cell_type": "code",
   "execution_count": 3,
   "metadata": {},
   "outputs": [],
   "source": [
    "import pandas as pd\n",
    "import numpy as np\n",
    "import matplotlib.pyplot as plt\n",
    "import pickle\n",
    "import os"
   ]
  },
  {
   "cell_type": "code",
   "execution_count": 4,
   "metadata": {},
   "outputs": [],
   "source": [
    "cwd = os.getcwd()\n",
    "data_folder = os.path.abspath(os.path.join(cwd, os.pardir, 'data'))\n",
    "output_folder = os.path.abspath(os.path.join(cwd, os.pardir, 'outputs/experiments_v3'))"
   ]
  },
  {
   "cell_type": "code",
   "execution_count": 5,
   "metadata": {},
   "outputs": [],
   "source": [
    "def load_motif_data(folder):\n",
    "    ts_1d = pickle.load(open(os.path.join(folder, \"ts_1d.p\"), \"rb\"))\n",
    "    mdl_cost_list = pickle.load(open(os.path.join(folder, \"mdl_cost.p\"), \"rb\"))\n",
    "    motif_point_list = pickle.load(open(os.path.join(folder, \"motif_point.p\"), \"rb\"))\n",
    "    motif_center_list = pickle.load(open(os.path.join(folder, \"motif_center.p\"), \"rb\"))\n",
    "    pattern_list = pickle.load(open(os.path.join(folder, \"patterns.p\"), \"rb\"))\n",
    "    mean_dist = pickle.load(open(os.path.join(folder, \"mean_dist.p\"), \"rb\"))\n",
    "    return ts_1d, mdl_cost_list, motif_point_list, motif_center_list, pattern_list, mean_dist\n",
    "\n",
    "def load_ts_data(folder):\n",
    "    trip_df = pd.read_pickle(os.path.join(folder, 'trip_df.pkl'))\n",
    "    multi_dim_ts = trip_df[['ay', 'az']]\n",
    "    events_ts = trip_df['event_type']\n",
    "    return multi_dim_ts, events_ts"
   ]
  },
  {
   "cell_type": "markdown",
   "metadata": {},
   "source": [
    "## Data import"
   ]
  },
  {
   "cell_type": "code",
   "execution_count": 6,
   "metadata": {},
   "outputs": [],
   "source": [
    "multi_dim_ts, events_ts = load_ts_data(data_folder)\n",
    "\n",
    "folder = os.path.join(output_folder, 'trip_exp1')\n",
    "ts_1d, mdl_cost_list, motif_point_list, motif_center_list, pattern_list, mean_dist = load_motif_data(folder)"
   ]
  },
  {
   "cell_type": "markdown",
   "metadata": {},
   "source": [
    "## Computing the events partition for each motif"
   ]
  },
  {
   "cell_type": "code",
   "execution_count": 7,
   "metadata": {},
   "outputs": [],
   "source": [
    "def compute_event_partition(motif_point_list, events_ts):\n",
    "    motif_event_partition_list = []\n",
    "    for motif_point in motif_point_list:\n",
    "        motif_events_dic_list = []\n",
    "        for member in motif_point:\n",
    "            member_events_list = [events_ts[i] for i in member]\n",
    "            member_events_dic = {'brakes': np.sum([member_event==1 for member_event in member_events_list]),\n",
    "                                 'turns': np.sum([member_event==2 for member_event in member_events_list]),\n",
    "                                 'accelerations': np.sum([member_event==3 for member_event in member_events_list])}\n",
    "            motif_events_dic_list.append(member_events_dic)\n",
    "        motif_events_partition = pd.DataFrame(motif_events_dic_list).mean()\n",
    "        motif_event_partition_list.append(motif_events_partition)\n",
    "    motif_partition_df = pd.DataFrame(motif_event_partition_list)\n",
    "    return motif_partition_df"
   ]
  },
  {
   "cell_type": "code",
   "execution_count": 8,
   "metadata": {},
   "outputs": [
    {
     "data": {
      "text/html": [
       "<div>\n",
       "<style scoped>\n",
       "    .dataframe tbody tr th:only-of-type {\n",
       "        vertical-align: middle;\n",
       "    }\n",
       "\n",
       "    .dataframe tbody tr th {\n",
       "        vertical-align: top;\n",
       "    }\n",
       "\n",
       "    .dataframe thead th {\n",
       "        text-align: right;\n",
       "    }\n",
       "</style>\n",
       "<table border=\"1\" class=\"dataframe\">\n",
       "  <thead>\n",
       "    <tr style=\"text-align: right;\">\n",
       "      <th></th>\n",
       "      <th>accelerations</th>\n",
       "      <th>brakes</th>\n",
       "      <th>turns</th>\n",
       "    </tr>\n",
       "  </thead>\n",
       "  <tbody>\n",
       "    <tr>\n",
       "      <th>0</th>\n",
       "      <td>0.022222</td>\n",
       "      <td>0.000000</td>\n",
       "      <td>0.022222</td>\n",
       "    </tr>\n",
       "    <tr>\n",
       "      <th>1</th>\n",
       "      <td>0.048780</td>\n",
       "      <td>0.048780</td>\n",
       "      <td>0.097561</td>\n",
       "    </tr>\n",
       "    <tr>\n",
       "      <th>2</th>\n",
       "      <td>0.055556</td>\n",
       "      <td>0.000000</td>\n",
       "      <td>0.000000</td>\n",
       "    </tr>\n",
       "    <tr>\n",
       "      <th>3</th>\n",
       "      <td>0.027027</td>\n",
       "      <td>0.027027</td>\n",
       "      <td>0.054054</td>\n",
       "    </tr>\n",
       "    <tr>\n",
       "      <th>4</th>\n",
       "      <td>0.000000</td>\n",
       "      <td>0.000000</td>\n",
       "      <td>0.050847</td>\n",
       "    </tr>\n",
       "  </tbody>\n",
       "</table>\n",
       "</div>"
      ],
      "text/plain": [
       "   accelerations    brakes     turns\n",
       "0       0.022222  0.000000  0.022222\n",
       "1       0.048780  0.048780  0.097561\n",
       "2       0.055556  0.000000  0.000000\n",
       "3       0.027027  0.027027  0.054054\n",
       "4       0.000000  0.000000  0.050847"
      ]
     },
     "execution_count": 8,
     "metadata": {},
     "output_type": "execute_result"
    }
   ],
   "source": [
    "motif_partition_df = compute_event_partition(motif_point_list, events_ts)\n",
    "motif_partition_df.head()"
   ]
  },
  {
   "cell_type": "markdown",
   "metadata": {},
   "source": [
    "## Create motif table"
   ]
  },
  {
   "cell_type": "code",
   "execution_count": 13,
   "metadata": {},
   "outputs": [],
   "source": [
    "def create_motif_table(pattern_list, motif_point_list, mdl_cost_list, mean_dist, events_ts):\n",
    "    motif_dic = {'pattern' : pattern_list,\n",
    "                 'pattern_len' : [len(pattern) for pattern in pattern_list],\n",
    "                 'n_members' : [len(temp_motif) for temp_motif in motif_point_list],\n",
    "                 'mdl_cost' : mdl_cost_list,\n",
    "                 'mean_dist' : mean_dist}\n",
    "    motif_partition_df = compute_event_partition(motif_point_list, events_ts)\n",
    "    motif_df = pd.DataFrame(motif_dic) \\\n",
    "                        .join(motif_partition_df) \\\n",
    "                        .assign(mdl_cost = lambda x: x['mdl_cost'].round(1)) \\\n",
    "                        .sort_values('mdl_cost')\n",
    "    return motif_df"
   ]
  },
  {
   "cell_type": "code",
   "execution_count": 14,
   "metadata": {},
   "outputs": [
    {
     "data": {
      "text/html": [
       "<div>\n",
       "<style scoped>\n",
       "    .dataframe tbody tr th:only-of-type {\n",
       "        vertical-align: middle;\n",
       "    }\n",
       "\n",
       "    .dataframe tbody tr th {\n",
       "        vertical-align: top;\n",
       "    }\n",
       "\n",
       "    .dataframe thead th {\n",
       "        text-align: right;\n",
       "    }\n",
       "</style>\n",
       "<table border=\"1\" class=\"dataframe\">\n",
       "  <thead>\n",
       "    <tr style=\"text-align: right;\">\n",
       "      <th></th>\n",
       "      <th>pattern</th>\n",
       "      <th>pattern_len</th>\n",
       "      <th>n_members</th>\n",
       "      <th>mdl_cost</th>\n",
       "      <th>mean_dist</th>\n",
       "      <th>accelerations</th>\n",
       "      <th>brakes</th>\n",
       "      <th>turns</th>\n",
       "    </tr>\n",
       "  </thead>\n",
       "  <tbody>\n",
       "    <tr>\n",
       "      <th>138</th>\n",
       "      <td>[acdd]</td>\n",
       "      <td>1</td>\n",
       "      <td>128</td>\n",
       "      <td>60371.1</td>\n",
       "      <td>0.094457</td>\n",
       "      <td>0.023438</td>\n",
       "      <td>0.039062</td>\n",
       "      <td>0.039062</td>\n",
       "    </tr>\n",
       "    <tr>\n",
       "      <th>31</th>\n",
       "      <td>[bbce]</td>\n",
       "      <td>1</td>\n",
       "      <td>113</td>\n",
       "      <td>61278.9</td>\n",
       "      <td>0.093627</td>\n",
       "      <td>0.008850</td>\n",
       "      <td>0.035398</td>\n",
       "      <td>0.044248</td>\n",
       "    </tr>\n",
       "    <tr>\n",
       "      <th>16</th>\n",
       "      <td>[edba]</td>\n",
       "      <td>1</td>\n",
       "      <td>108</td>\n",
       "      <td>61480.2</td>\n",
       "      <td>0.119420</td>\n",
       "      <td>0.046296</td>\n",
       "      <td>0.018519</td>\n",
       "      <td>0.037037</td>\n",
       "    </tr>\n",
       "    <tr>\n",
       "      <th>135</th>\n",
       "      <td>[ddca]</td>\n",
       "      <td>1</td>\n",
       "      <td>105</td>\n",
       "      <td>61811.7</td>\n",
       "      <td>0.116655</td>\n",
       "      <td>0.000000</td>\n",
       "      <td>0.028571</td>\n",
       "      <td>0.047619</td>\n",
       "    </tr>\n",
       "    <tr>\n",
       "      <th>34</th>\n",
       "      <td>[abde]</td>\n",
       "      <td>1</td>\n",
       "      <td>100</td>\n",
       "      <td>62243.3</td>\n",
       "      <td>0.112964</td>\n",
       "      <td>0.010000</td>\n",
       "      <td>0.040000</td>\n",
       "      <td>0.030000</td>\n",
       "    </tr>\n",
       "  </tbody>\n",
       "</table>\n",
       "</div>"
      ],
      "text/plain": [
       "    pattern  pattern_len  n_members  mdl_cost  mean_dist  accelerations  \\\n",
       "138  [acdd]            1        128   60371.1   0.094457       0.023438   \n",
       "31   [bbce]            1        113   61278.9   0.093627       0.008850   \n",
       "16   [edba]            1        108   61480.2   0.119420       0.046296   \n",
       "135  [ddca]            1        105   61811.7   0.116655       0.000000   \n",
       "34   [abde]            1        100   62243.3   0.112964       0.010000   \n",
       "\n",
       "       brakes     turns  \n",
       "138  0.039062  0.039062  \n",
       "31   0.035398  0.044248  \n",
       "16   0.018519  0.037037  \n",
       "135  0.028571  0.047619  \n",
       "34   0.040000  0.030000  "
      ]
     },
     "execution_count": 14,
     "metadata": {},
     "output_type": "execute_result"
    }
   ],
   "source": [
    "motif_df = create_motif_table(pattern_list, motif_point_list, mdl_cost_list, mean_dist, events_ts)\n",
    "motif_df.head()"
   ]
  },
  {
   "cell_type": "code",
   "execution_count": null,
   "metadata": {},
   "outputs": [],
   "source": []
  }
 ],
 "metadata": {
  "kernelspec": {
   "display_name": "Python 3",
   "language": "python",
   "name": "python3"
  },
  "language_info": {
   "codemirror_mode": {
    "name": "ipython",
    "version": 3
   },
   "file_extension": ".py",
   "mimetype": "text/x-python",
   "name": "python",
   "nbconvert_exporter": "python",
   "pygments_lexer": "ipython3",
   "version": "3.6.5"
  }
 },
 "nbformat": 4,
 "nbformat_minor": 2
}
