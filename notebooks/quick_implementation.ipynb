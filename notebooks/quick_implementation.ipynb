{
 "cells": [
  {
   "cell_type": "markdown",
   "metadata": {},
   "source": [
    "# EMD algorithm - quick and dirty implementation\n",
    "\n",
    "## Maria Inês Silva\n",
    "## 10/01/2019\n",
    "\n",
    "***"
   ]
  },
  {
   "cell_type": "markdown",
   "metadata": {},
   "source": [
    "## Pseudo-code from the paper\n",
    "\n",
    "The efficient EMD paper uses the following parameter setting:\n",
    "* Tmin - the minimum length of analysis window (in data points).\n",
    "* a - the SAX alphabet size.\n",
    "* w - the number of SAX symbols in one BS.\n",
    "* aw - the size of the analysis window, which is measured in the number of BSs.\n",
    "\n",
    "### Algorithm EMD\n",
    "\n",
    "1. Transform the original time series to PAA representation, using a slideing window of size `T_min`.\n",
    "2. Transform the PAA reduced time series to SAX symbol sequence.\n",
    "3. Transform the SAX symbol sequence to BS sequence.\n",
    "4. Transform the BS sequence to Modified BS sequence.\n",
    "5. Find all the motif candidates:\n",
    "    1. Set the size of analysis window, W, to `T_min`.\n",
    "    2. Extract all modified BS subsequences under the analysis window, by sliding the window from left to right. Find some DL pattern from these subsequences, if any. If there exists no DL pattern found and the window is now at the end of the Modified BS sequence, go to step 6.\n",
    "    3. From the set of all pattern instances found in 5.B, establish the distance matrix for them (using DTW distance to calculate the distances between them). Call the procedure `Extract_Motif_Candidate` to find the motif candidate from the distance matrix, and calculate the MDL value of the candidate.\n",
    "    4. Add the motif candidate to the result list along with its MDL value.\n",
    "    5. Increase the size of the analysis window (i.e., Set W: = W + 1), go to 5.2\n",
    "6. From the result list, find the motif candidate with the smallest MDL value. The found motif will be the returned result\n",
    "\n",
    "### Algorithm `Extract_Motif_Candidate`\n",
    "\n",
    "1. For each TSS in the distance matrix, identify all the other TSS which are similar to it (i.e., the distance between them is less than the threshold R).\n",
    "2. Select as the pattern instances the TSSs which have the highest count of its similar subsequence.\n",
    "3. Among the pattern instances selected in step 2, determine the instance which has the smallest sum of distances to all the other instances. This one is considered as the centre of the pattern (that means a motif candidate).\n",
    "\n",
    "***"
   ]
  },
  {
   "cell_type": "markdown",
   "metadata": {},
   "source": [
    "## Data and library imports"
   ]
  },
  {
   "cell_type": "code",
   "execution_count": 1,
   "metadata": {},
   "outputs": [],
   "source": [
    "import numpy as np\n",
    "import pandas as pd\n",
    "import pickle\n",
    "import os\n",
    "import math\n",
    "import time\n",
    "from dtaidistance import dtw"
   ]
  },
  {
   "cell_type": "code",
   "execution_count": 2,
   "metadata": {},
   "outputs": [
    {
     "data": {
      "text/plain": [
       "'/Users/misilva73/Documents/Tese/extendedMD/data'"
      ]
     },
     "execution_count": 2,
     "metadata": {},
     "output_type": "execute_result"
    }
   ],
   "source": [
    "cwd = os.getcwd()\n",
    "data_folder = os.path.abspath(os.path.join(cwd, os.pardir, 'data'))\n",
    "data_folder"
   ]
  },
  {
   "cell_type": "code",
   "execution_count": 3,
   "metadata": {},
   "outputs": [
    {
     "data": {
      "text/html": [
       "<div>\n",
       "<style scoped>\n",
       "    .dataframe tbody tr th:only-of-type {\n",
       "        vertical-align: middle;\n",
       "    }\n",
       "\n",
       "    .dataframe tbody tr th {\n",
       "        vertical-align: top;\n",
       "    }\n",
       "\n",
       "    .dataframe thead th {\n",
       "        text-align: right;\n",
       "    }\n",
       "</style>\n",
       "<table border=\"1\" class=\"dataframe\">\n",
       "  <thead>\n",
       "    <tr style=\"text-align: right;\">\n",
       "      <th></th>\n",
       "      <th>ay</th>\n",
       "      <th>az</th>\n",
       "    </tr>\n",
       "  </thead>\n",
       "  <tbody>\n",
       "    <tr>\n",
       "      <th>0</th>\n",
       "      <td>-0.034</td>\n",
       "      <td>0.013</td>\n",
       "    </tr>\n",
       "    <tr>\n",
       "      <th>1</th>\n",
       "      <td>-0.005</td>\n",
       "      <td>0.003</td>\n",
       "    </tr>\n",
       "    <tr>\n",
       "      <th>2</th>\n",
       "      <td>0.006</td>\n",
       "      <td>0.010</td>\n",
       "    </tr>\n",
       "    <tr>\n",
       "      <th>3</th>\n",
       "      <td>0.004</td>\n",
       "      <td>-0.012</td>\n",
       "    </tr>\n",
       "    <tr>\n",
       "      <th>4</th>\n",
       "      <td>-0.012</td>\n",
       "      <td>-0.027</td>\n",
       "    </tr>\n",
       "  </tbody>\n",
       "</table>\n",
       "</div>"
      ],
      "text/plain": [
       "      ay     az\n",
       "0 -0.034  0.013\n",
       "1 -0.005  0.003\n",
       "2  0.006  0.010\n",
       "3  0.004 -0.012\n",
       "4 -0.012 -0.027"
      ]
     },
     "execution_count": 3,
     "metadata": {},
     "output_type": "execute_result"
    }
   ],
   "source": [
    "ay = pd.read_csv(os.path.join(data_folder, 'ay.csv'), names=['ay'])\n",
    "az = pd.read_csv(os.path.join(data_folder, 'az.csv'), names=['az'])\n",
    "\n",
    "data = ay.assign(az = az['az'])\n",
    "data.head()"
   ]
  },
  {
   "cell_type": "markdown",
   "metadata": {},
   "source": [
    "## 1. PCA\n",
    "\n",
    "**input:** data (pandas dataframe where each column is a timeseries.Number of columns is the number of variable to apply pca)\n",
    "\n",
    "**output:** numpy array that represents the 1-dimensional time series resulting from the PCA."
   ]
  },
  {
   "cell_type": "code",
   "execution_count": 4,
   "metadata": {},
   "outputs": [],
   "source": [
    "def extract_pca_ts(multi_dim_ts):\n",
    "    # compute vector with the mean of each time series\n",
    "    means_vec = data.agg('mean').values\n",
    "    # compute the covariance matrix of the multi-dim time-series data\n",
    "    cov_mat = multi_dim_ts.cov().values\n",
    "    # extract eigenvalues and eigenvectors (the PCs) of the covariance matrix\n",
    "    e_val, e_vec = np.linalg.eigh(cov_mat)\n",
    "    # get the eigenvector with the highest eigenvalue (i.e. the 1st PC)\n",
    "    pc1_vec = e_vec[np.argmax(e_val)]\n",
    "    # compute the 1-dim time series as the data's projection on the 1st PC\n",
    "    ts_1d = np.dot((multi_dim_ts.values - means_vec), pc1_vec)\n",
    "    return ts_1d"
   ]
  },
  {
   "cell_type": "code",
   "execution_count": 5,
   "metadata": {},
   "outputs": [
    {
     "data": {
      "text/plain": [
       "array([ 0.03494258,  0.00693807, -0.00463669, ..., -0.04965133,\n",
       "       -0.07109884, -0.07675976])"
      ]
     },
     "execution_count": 5,
     "metadata": {},
     "output_type": "execute_result"
    }
   ],
   "source": [
    "ts_1d = extract_pca_ts(data)\n",
    "ts_1d"
   ]
  },
  {
   "cell_type": "markdown",
   "metadata": {},
   "source": [
    "## 2. SAX\n",
    "\n",
    "Code based on the function `sax_via_window` from `saxpy.sax`.\n",
    "\n",
    "**input:** 1-d time series, sliding window size, PAA representation size, alphabet size and z-normalization threshold (??)\n",
    "\n",
    "**output:** list of sax words (one word per sliding window)"
   ]
  },
  {
   "cell_type": "code",
   "execution_count": 6,
   "metadata": {},
   "outputs": [],
   "source": [
    "from saxpy.znorm import znorm\n",
    "from saxpy.paa import paa\n",
    "from saxpy.alphabet import cuts_for_asize\n",
    "from saxpy.sax import ts_to_string\n",
    "\n",
    "def extract_sax_sequence(ts, win_size, paa_size, alphabet_size=3, z_threshold=0.01):\n",
    "    # initialize list with sax sequence\n",
    "    sax_sequence = []\n",
    "    # get the cuts thresholds based on the gaussian distribution\n",
    "    cuts = cuts_for_asize(alphabet_size)\n",
    "    for t in range(0, len(ts) - win_size + 1):\n",
    "        # define the current window\n",
    "        ts_win = ts[t:(t+win_size)]\n",
    "        # normalize the window\n",
    "        ts_win_normalized = znorm(ts_win, z_threshold)\n",
    "        # compute PAA representation of normalized window\n",
    "        paa_rep = paa(ts_win_normalized, paa_size)\n",
    "        # compute sax representation of PAA representation\n",
    "        sax_word = ts_to_string(paa_rep, cuts)\n",
    "        # append sax word to sax sequence list\n",
    "        sax_sequence.append(sax_word)\n",
    "    return sax_sequence"
   ]
  },
  {
   "cell_type": "code",
   "execution_count": 7,
   "metadata": {},
   "outputs": [
    {
     "data": {
      "text/plain": [
       "(array(['aac', 'abb', 'abc', 'aca', 'acb', 'acc', 'bab', 'bac', 'bba',\n",
       "        'bbb', 'bbc', 'bca', 'bcb', 'caa', 'cab', 'cac', 'cba', 'cbb',\n",
       "        'cca'], dtype='<U3'),\n",
       " array([ 291,  158, 1255,  122,  752,  244,  120,  725,  145, 1294,  126,\n",
       "         736,  103,  263,  794,  100, 1368,  115,  267]))"
      ]
     },
     "execution_count": 7,
     "metadata": {},
     "output_type": "execute_result"
    }
   ],
   "source": [
    "win_size=9\n",
    "paa_size=3\n",
    "alphabet_size=3\n",
    "\n",
    "sax_sequence = extract_sax_sequence(ts_1d, win_size, paa_size, alphabet_size)\n",
    "np.unique(sax_sequence, return_counts=True)"
   ]
  },
  {
   "cell_type": "markdown",
   "metadata": {},
   "source": [
    "## 3. Extract modified BS-sequence\n",
    "\n",
    "**input:** sax sequence\n",
    "\n",
    "**output:** a list with the modified bs sequence and a list with the lenght of each bs in the sequence (if there were two sax words together, then the lenght of the result bs sequence is 2)"
   ]
  },
  {
   "cell_type": "code",
   "execution_count": 8,
   "metadata": {},
   "outputs": [],
   "source": [
    "def extract_modified_bs_sequence(sax_sequence):\n",
    "    # initialize the lists to save the bs and their lenghts\n",
    "    bs_seq = []\n",
    "    bs_len = []\n",
    "    # initialize the bs lenght counter\n",
    "    curr_len = 1\n",
    "    for i in range(len(sax_sequence)):\n",
    "        # set the current bs element\n",
    "        curr_bs = sax_sequence[i]\n",
    "        # set the next bs element\n",
    "        if i<len(sax_sequence)-1:\n",
    "            next_bs = sax_sequence[i+1]\n",
    "        else: # if the current element is the last, then thre's no \"next_bs\"\n",
    "            next_bs = ''\n",
    "        # test if the current bs is equal to the next bs\n",
    "        if curr_bs==next_bs:\n",
    "            # if yes, add 1 to the current lenght counter\n",
    "            curr_len = curr_len + 1\n",
    "        else:\n",
    "            # if no, save the bs and its lenght in the corresponding lists\n",
    "            bs_seq.append(curr_bs)\n",
    "            bs_len.append(curr_len)\n",
    "            # and initialize the lenght counter\n",
    "            curr_len = 1\n",
    "    return bs_seq, bs_len\n",
    "\n",
    "def generate_bs_pointers(bs_len, bs_size):\n",
    "    bs_pointers = []\n",
    "    start_pointer = 0\n",
    "    for bs_len_item in bs_len:\n",
    "        end_pointer = start_pointer + bs_size + bs_len_item - 1\n",
    "        pointer_list = list(range(start_pointer, end_pointer))\n",
    "        bs_pointers.append(pointer_list)\n",
    "        start_pointer = start_pointer + bs_len_item\n",
    "    return bs_pointers"
   ]
  },
  {
   "cell_type": "code",
   "execution_count": 9,
   "metadata": {},
   "outputs": [],
   "source": [
    "bs_seq, bs_len = extract_modified_bs_sequence(sax_sequence)\n",
    "bs_point = generate_bs_pointers(bs_len, win_size)"
   ]
  },
  {
   "cell_type": "markdown",
   "metadata": {},
   "source": [
    "## 4. Get list of all BS subsequences with a fixed BS size\n",
    "\n",
    "**input:** bs_seq, bs_point and subseq_size\n",
    "\n",
    "**output:** subseq_bs_list and subseq_point_list"
   ]
  },
  {
   "cell_type": "code",
   "execution_count": 10,
   "metadata": {},
   "outputs": [],
   "source": [
    "def get_bs_subsequences_list(bs_seq, bs_point, subseq_size):\n",
    "    # initialize lists to save the subsequences\n",
    "    subseq_bs_list = []\n",
    "    subseq_point_list = []\n",
    "    for i in range(len(bs_seq) - subseq_size + 1):\n",
    "        # extract the bs subsequence and append it to the list\n",
    "        subseq_bs = bs_seq[i:(i+subseq_size)]\n",
    "        subseq_bs_list.append(subseq_bs)\n",
    "        # extract the pointers of the bs subsequence and append it to the list\n",
    "        subseq_point = list(set(np.concatenate(bs_point[i:(i+subseq_size)])))\n",
    "        subseq_point_list.append(subseq_point)\n",
    "    return subseq_bs_list, subseq_point_list"
   ]
  },
  {
   "cell_type": "code",
   "execution_count": 12,
   "metadata": {},
   "outputs": [
    {
     "name": "stdout",
     "output_type": "stream",
     "text": [
      "5934\n",
      "233\n"
     ]
    }
   ],
   "source": [
    "subseq_size = 2\n",
    "\n",
    "subseq_bs_list, subseq_point_list = get_bs_subsequences_list(bs_seq, bs_point, subseq_size)\n",
    "print(len(subseq_bs_list))\n",
    "subseq_bs_set = [list(item) for item in set(tuple(row) for row in subseq_bs_list)]\n",
    "print(len(subseq_bs_set))"
   ]
  },
  {
   "cell_type": "markdown",
   "metadata": {},
   "source": [
    "## 5. Extract all time series subsequences in a BS pattern\n",
    "\n",
    "**input:** ts, subseq_bs_list, subseq_len_list, subseq_point_list and pattern\n",
    "\n",
    "**output:** pattern_ts_list, pattern_len_listand  pattern_point_list"
   ]
  },
  {
   "cell_type": "code",
   "execution_count": 13,
   "metadata": {},
   "outputs": [],
   "source": [
    "def get_all_subsequences_in_pattern(ts, subseq_bs_list, subseq_point_list, pattern):\n",
    "    # initialize list to save the subsequences that bellong to the pattern\n",
    "    pattern_ts_list = []\n",
    "    pattern_pos_list = []\n",
    "    # for each bs subsequence:\n",
    "    for i in range(len(subseq_bs_list)):\n",
    "        # if the subsequence bellongs to the pattern:\n",
    "        if subseq_bs_list[i] == pattern:\n",
    "            # save the position of the subsequence in the list\n",
    "            pattern_pos_list.append(i)\n",
    "            # extract the initial ts data of that subsequence and append it to the list\n",
    "            pattern_ts = ts[subseq_point_list[i]]\n",
    "            pattern_ts_list.append(pattern_ts)\n",
    "    return pattern_ts_list, pattern_pos_list"
   ]
  },
  {
   "cell_type": "code",
   "execution_count": 17,
   "metadata": {},
   "outputs": [
    {
     "name": "stdout",
     "output_type": "stream",
     "text": [
      "[array([ 0.01655791, -0.00079149, -0.01538003,  0.00268896,  0.01421275,\n",
      "        0.07041003,  0.04241922, -0.00952895, -0.0225292 , -0.01338783,\n",
      "        0.00155366]), array([0.03641714, 0.10778335, 0.11686196, 0.10995202, 0.12697395,\n",
      "       0.12196797, 0.16101781, 0.08018276, 0.02999935, 0.00040657]), array([ 0.01107346, -0.00539355,  0.03228175,  0.01452843,  0.04850954,\n",
      "        0.02999935,  0.0376152 , -0.0053308 ,  0.01341861,  0.0168481 ]), array([-0.02569398, -0.0154173 , -0.02159586,  0.01918146, -0.02368809,\n",
      "        0.00262621,  0.01566374, -0.02718033, -0.04517287, -0.02630974,\n",
      "       -0.05285147]), array([0.05159786, 0.04125843, 0.04805465, 0.07450815, 0.05783917,\n",
      "       0.05522931, 0.06767466, 0.048837  , 0.02561104, 0.01688537]), array([-0.0209645 , -0.00701911, -0.00195037, -0.02359985, -0.00554455,\n",
      "       -0.03356084, -0.05729075, -0.01445848,  0.0010752 , -0.01421925,\n",
      "       -0.03617071]), array([ 0.02157948,  0.02682469, -0.02611957,  0.02546195,  0.01748136,\n",
      "       -0.01165844, -0.00808975,  0.04452704,  0.02073438,  0.03740335]), array([-0.02213708, -0.01551733, -0.04290417, -0.01858208, -0.01091527,\n",
      "       -0.0162742 , -0.0111545 , -0.02117825, -0.06080848, -0.0303588 ,\n",
      "       -0.00850927]), array([ 0.01905595,  0.03944461, -0.00699363,  0.01473039, -0.00626224,\n",
      "        0.00455565, -0.01678993,  0.00730472,  0.00238698,  0.00139088]), array([-0.0222508 , -0.06701252, -0.01744677, -0.04374928, -0.03370005,\n",
      "        0.01829908, -0.02801364, -0.01532907, -0.08255988, -0.04415319,\n",
      "       -0.02300766]), array([ 0.00296356,  0.01934234, -0.00421109,  0.02599936,  0.0131383 ,\n",
      "        0.00794406,  0.02313847, -0.00350329, -0.00544452,  0.00316742]), array([ 0.01863834,  0.01749125, -0.01169762, -0.02102916, -0.02990582,\n",
      "       -0.02250372, -0.01007207,  0.01306566,  0.00469295,  0.00876559]), array([ 0.00356944, -0.00601312, -0.01715848,  0.01082054, -0.01391726,\n",
      "       -0.00322488,  0.02317765,  0.03028765,  0.01973447, -0.00748768,\n",
      "       -0.03622358]), array([-0.09636417, -0.08826986, -0.04213361, -0.08080501, -0.06512034,\n",
      "       -0.03611974, -0.06925573, -0.08428546, -0.0866561 , -0.0789775 ]), array([ 0.0451428 ,  0.05331356,  0.04819386,  0.07188649,  0.06807857,\n",
      "        0.05988234,  0.06357654,  0.06322359,  0.01522255, -0.02380181]), array([-0.00712104, -0.01309764, -0.0020523 , -0.00791518,  0.00052029,\n",
      "        0.01455392,  0.01127542, -0.00282096, -0.02323511, -0.02675283,\n",
      "       -0.05162983]), array([-0.01078976, -0.01413101, -0.00335039, -0.01148387,  0.01525982,\n",
      "        0.01235976,  0.01051855, -0.01322315, -0.02552929, -0.00944071]), array([0.05417045, 0.07823962, 0.05433323, 0.0677492 , 0.04979393,\n",
      "       0.03159942, 0.01973447, 0.04734875, 0.06293339, 0.04816837]), array([-0.03451967, -0.03950017, -0.04705325, -0.04105118, -0.03914721,\n",
      "       -0.01181134, -0.02663911, -0.04600619, -0.05321812, -0.0562319 ,\n",
      "       -0.05247494]), array([-0.04591795, -0.03135489, -0.00211506, -0.01211333, -0.01435845,\n",
      "        0.000785  , -0.01063877, -0.0265136 , -0.0432963 , -0.03539026]), array([-0.04237665, -0.01186231, -0.02627437, -0.04168253, -0.01341332,\n",
      "        0.02877581,  0.01899129, -0.03637457, -0.0860913 , -0.01405646]), array([ 0.01561277,  0.00328114,  0.03785443,  0.04336435, -0.01476237,\n",
      "       -0.00515432, -0.01675457, -0.02228997, -0.00544452,  0.02136193,\n",
      "       -0.00125816])]\n",
      "[3, 731, 1018, 1159, 1433, 2234, 2504, 3100, 3383, 3691, 3926, 4084, 4225, 4662, 4678, 5253, 5268, 5491, 5506, 5521, 5661, 5926]\n"
     ]
    }
   ],
   "source": [
    "pattern = subseq_bs_list[3]\n",
    "pattern_ts_list, pattern_pos_list = get_all_subsequences_in_pattern(ts_1d, subseq_bs_list, subseq_point_list, pattern)\n",
    "print(pattern_ts_list)\n",
    "print(pattern_pos_list)"
   ]
  },
  {
   "cell_type": "markdown",
   "metadata": {},
   "source": [
    "## 6. Compute DTW distance matrix\n",
    "\n",
    "**input:** ts_list and R (max distance)\n",
    "\n",
    "**output:** dist_matrix"
   ]
  },
  {
   "cell_type": "code",
   "execution_count": 18,
   "metadata": {},
   "outputs": [],
   "source": [
    "def compute_dtw_dist_mat(ts_list, R=None):\n",
    "    dist_matrix_vec = dtw.distance_matrix(ts_list, parallel=True, max_dist=R)\n",
    "    dist_matrix = np.triu(dist_matrix_vec) + np.triu(dist_matrix_vec).T\n",
    "    np.fill_diagonal(dist_matrix, 0)\n",
    "    return dist_matrix"
   ]
  },
  {
   "cell_type": "code",
   "execution_count": 19,
   "metadata": {},
   "outputs": [
    {
     "data": {
      "text/plain": [
       "array([[0.        , 0.16230881, 0.0441915 , 0.10071239, 0.11391226,\n",
       "        0.1091191 , 0.08846153, 0.12024343, 0.06105193, 0.12032186,\n",
       "        0.05963411, 0.07305834, 0.06688131, 0.26074577, 0.10976359,\n",
       "        0.08881529, 0.07479293, 0.16060914, 0.15229236, 0.11786552,\n",
       "        0.10993921, 0.04571247],\n",
       "       [0.16230881, 0.        , 0.20147441, 0.29814117, 0.1376943 ,\n",
       "        0.34099999, 0.22715295, 0.37573677, 0.21818912, 0.33447194,\n",
       "        0.25774888, 0.27438423, 0.26339161, 0.50907237, 0.14378542,\n",
       "        0.3027223 , 0.29530603, 0.14076289, 0.4051727 , 0.3479288 ,\n",
       "        0.29877504, 0.21356719],\n",
       "       [0.0441915 , 0.20147441, 0.        , 0.112104  , 0.08036408,\n",
       "        0.11888576, 0.05800219, 0.13077389, 0.04543998, 0.14127582,\n",
       "        0.03763292, 0.06011665, 0.06784706, 0.2876591 , 0.09560674,\n",
       "        0.0973259 , 0.06870761, 0.11613546, 0.17864662, 0.12707911,\n",
       "        0.12192197, 0.04215859],\n",
       "       [0.10071239, 0.29814117, 0.112104  , 0.        , 0.19357391,\n",
       "        0.05225997, 0.14839905, 0.06756133, 0.10717002, 0.07811482,\n",
       "        0.09016368, 0.10979401, 0.04789191, 0.15577854, 0.1683435 ,\n",
       "        0.04295779, 0.05999096, 0.23556465, 0.06095794, 0.04819253,\n",
       "        0.07066361, 0.10034416],\n",
       "       [0.11391226, 0.1376943 , 0.08036408, 0.19357391, 0.        ,\n",
       "        0.214889  , 0.11099109, 0.23739216, 0.08347856, 0.24924668,\n",
       "        0.1145204 , 0.13702977, 0.15180713, 0.38835905, 0.04632067,\n",
       "        0.1811794 , 0.16388231, 0.05541801, 0.28634179, 0.22175189,\n",
       "        0.21544774, 0.10014327],\n",
       "       [0.1091191 , 0.34099999, 0.11888576, 0.05225997, 0.214889  ,\n",
       "        0.        , 0.12116736, 0.04479846, 0.08885161, 0.07254898,\n",
       "        0.09073755, 0.07667142, 0.06896622, 0.15986234, 0.18984545,\n",
       "        0.05763563, 0.05434228, 0.22893105, 0.06991099, 0.05581475,\n",
       "        0.06566365, 0.09229042],\n",
       "       [0.08846153, 0.22715295, 0.05800219, 0.14839905, 0.11099109,\n",
       "        0.12116736, 0.        , 0.11599976, 0.06275278, 0.15233982,\n",
       "        0.06549391, 0.05882846, 0.09166633, 0.29086141, 0.13013354,\n",
       "        0.13050027, 0.09865023, 0.10864173, 0.18811073, 0.15378899,\n",
       "        0.1395754 , 0.06386609],\n",
       "       [0.12024343, 0.37573677, 0.13077389, 0.06756133, 0.23739216,\n",
       "        0.04479846, 0.11599976, 0.        , 0.09774133, 0.05836386,\n",
       "        0.10519028, 0.07369561, 0.086032  , 0.15272534, 0.22240768,\n",
       "        0.07112811, 0.06343142, 0.24608922, 0.05811501, 0.04920672,\n",
       "        0.06520147, 0.10693954],\n",
       "       [0.06105193, 0.21818912, 0.04543998, 0.10717002, 0.08347856,\n",
       "        0.08885161, 0.06275278, 0.09774133, 0.        , 0.13929476,\n",
       "        0.03375267, 0.04116535, 0.06567574, 0.26439428, 0.08569354,\n",
       "        0.08709358, 0.06669642, 0.11986147, 0.15765663, 0.11491457,\n",
       "        0.1233596 , 0.03334164],\n",
       "       [0.12032186, 0.33447194, 0.14127582, 0.07811482, 0.24924668,\n",
       "        0.07254898, 0.15233982, 0.05836386, 0.13929476, 0.        ,\n",
       "        0.13402661, 0.11774265, 0.09481894, 0.12317331, 0.22864671,\n",
       "        0.0901792 , 0.0936631 , 0.29234149, 0.07006827, 0.06426989,\n",
       "        0.05619946, 0.13614854],\n",
       "       [0.05963411, 0.25774888, 0.03763292, 0.09016368, 0.1145204 ,\n",
       "        0.09073755, 0.06549391, 0.10519028, 0.03375267, 0.13402661,\n",
       "        0.        , 0.04597254, 0.04945514, 0.25916418, 0.12262305,\n",
       "        0.07008626, 0.04458592, 0.14235845, 0.15187408, 0.09455696,\n",
       "        0.11431245, 0.04463478],\n",
       "       [0.07305834, 0.27438423, 0.06011665, 0.10979401, 0.13702977,\n",
       "        0.07667142, 0.05882846, 0.07369561, 0.04116535, 0.11774265,\n",
       "        0.04597254, 0.        , 0.06142585, 0.24253323, 0.13185231,\n",
       "        0.08581745, 0.06048139, 0.15346236, 0.14180242, 0.11237806,\n",
       "        0.11561318, 0.04047632],\n",
       "       [0.06688131, 0.26339161, 0.06784706, 0.04789191, 0.15180713,\n",
       "        0.06896622, 0.09166633, 0.086032  , 0.06567574, 0.09481894,\n",
       "        0.04945514, 0.06142585, 0.        , 0.21712738, 0.1520831 ,\n",
       "        0.0354791 , 0.04249174, 0.18404432, 0.1013005 , 0.07320173,\n",
       "        0.08505662, 0.06282291],\n",
       "       [0.26074577, 0.50907237, 0.2876591 , 0.15577854, 0.38835905,\n",
       "        0.15986234, 0.29086141, 0.15272534, 0.26439428, 0.12317331,\n",
       "        0.25916418, 0.24253323, 0.21712738, 0.        , 0.35661726,\n",
       "        0.17618943, 0.20888185, 0.40415513, 0.10564087, 0.12808197,\n",
       "        0.14141172, 0.26261899],\n",
       "       [0.10976359, 0.14378542, 0.09560674, 0.1683435 , 0.04632067,\n",
       "        0.18984545, 0.13013354, 0.22240768, 0.08569354, 0.22864671,\n",
       "        0.12262305, 0.13185231, 0.1520831 , 0.35661726, 0.        ,\n",
       "        0.1680663 , 0.16244422, 0.09155541, 0.26212487, 0.20651688,\n",
       "        0.19716007, 0.09725349],\n",
       "       [0.08881529, 0.3027223 , 0.0973259 , 0.04295779, 0.1811794 ,\n",
       "        0.05763563, 0.13050027, 0.07112811, 0.08709358, 0.0901792 ,\n",
       "        0.07008626, 0.08581745, 0.0354791 , 0.17618943, 0.1680663 ,\n",
       "        0.        , 0.04549926, 0.21745734, 0.07549718, 0.0510144 ,\n",
       "        0.07868163, 0.08661595],\n",
       "       [0.07479293, 0.29530603, 0.06870761, 0.05999096, 0.16388231,\n",
       "        0.05434228, 0.09865023, 0.06343142, 0.06669642, 0.0936631 ,\n",
       "        0.04458592, 0.06048139, 0.04249174, 0.20888185, 0.16244422,\n",
       "        0.04549926, 0.        , 0.19690037, 0.09753095, 0.05455061,\n",
       "        0.08083262, 0.06524368],\n",
       "       [0.16060914, 0.14076289, 0.11613546, 0.23556465, 0.05541801,\n",
       "        0.22893105, 0.10864173, 0.24608922, 0.11986147, 0.29234149,\n",
       "        0.14235845, 0.15346236, 0.18404432, 0.40415513, 0.09155541,\n",
       "        0.21745734, 0.19690037, 0.        , 0.30749933, 0.246714  ,\n",
       "        0.25864019, 0.1297731 ],\n",
       "       [0.15229236, 0.4051727 , 0.17864662, 0.06095794, 0.28634179,\n",
       "        0.06991099, 0.18811073, 0.05811501, 0.15765663, 0.07006827,\n",
       "        0.15187408, 0.14180242, 0.1013005 , 0.10564087, 0.26212487,\n",
       "        0.07549718, 0.09753095, 0.30749933, 0.        , 0.03290077,\n",
       "        0.07823687, 0.16654948],\n",
       "       [0.11786552, 0.3479288 , 0.12707911, 0.04819253, 0.22175189,\n",
       "        0.05581475, 0.15378899, 0.04920672, 0.11491457, 0.06426989,\n",
       "        0.09455696, 0.11237806, 0.07320173, 0.12808197, 0.20651688,\n",
       "        0.0510144 , 0.05455061, 0.246714  , 0.03290077, 0.        ,\n",
       "        0.06855957, 0.11356043],\n",
       "       [0.10993921, 0.29877504, 0.12192197, 0.07066361, 0.21544774,\n",
       "        0.06566365, 0.1395754 , 0.06520147, 0.1233596 , 0.05619946,\n",
       "        0.11431245, 0.11561318, 0.08505662, 0.14141172, 0.19716007,\n",
       "        0.07868163, 0.08083262, 0.25864019, 0.07823687, 0.06855957,\n",
       "        0.        , 0.12101313],\n",
       "       [0.04571247, 0.21356719, 0.04215859, 0.10034416, 0.10014327,\n",
       "        0.09229042, 0.06386609, 0.10693954, 0.03334164, 0.13614854,\n",
       "        0.04463478, 0.04047632, 0.06282291, 0.26261899, 0.09725349,\n",
       "        0.08661595, 0.06524368, 0.1297731 , 0.16654948, 0.11356043,\n",
       "        0.12101313, 0.        ]])"
      ]
     },
     "execution_count": 19,
     "metadata": {},
     "output_type": "execute_result"
    }
   ],
   "source": [
    "dist_mat = compute_dtw_dist_mat(pattern_ts_list)\n",
    "dist_mat"
   ]
  },
  {
   "cell_type": "markdown",
   "metadata": {},
   "source": [
    "## 7. Find center and final members of a pattern\n",
    "\n",
    "This step implements the distance constrain. And the overlapping contrain?\n",
    "\n",
    "**input:**\n",
    "\n",
    "**output:** "
   ]
  },
  {
   "cell_type": "code",
   "execution_count": 27,
   "metadata": {},
   "outputs": [],
   "source": [
    "def find_index_of_pattern_center_and_members(dist_mat, pattern_pos_list, R):\n",
    "    \"\"\"Finds the index of the motif's center and members\"\"\"\n",
    "    pattern_pos_list = np.array(pattern_pos_list)\n",
    "    count_subseq_list = [sum(row<R)-count_overlaps(pattern_pos_list[row<R]) for row in dist_mat]\n",
    "    max_count = max(count_subseq_list)\n",
    "    sum_dist_list = []\n",
    "    for i in range(len(dist_mat)):\n",
    "        if count_subseq_list[i]==max_count:\n",
    "            row = dist_mat[i]\n",
    "            pruned_members_index = prune_pattern_members(row)\n",
    "            sum_dist = sum([row[i] for i in pruned_members_index])\n",
    "        else:\n",
    "            sum_dist = np.inf\n",
    "        sum_dist_list.append(sum_dist)\n",
    "    center_index = np.argmin(sum_dist_list)\n",
    "    mean_dist = min(sum_dist_list[center_index])/float(count_subseq_list[center_index])\n",
    "    center_row = dist_mat[center_index]\n",
    "    members_index = prune_pattern_members(center_row)\n",
    "    # extract the center and members position in the subseq list\n",
    "    center_pos = pattern_pos_list[center_index]\n",
    "    members_pos = [pattern_pos_list[i] for i in members_index]\n",
    "    return center_pos, members_pos, mean_dist\n",
    "\n",
    "\n",
    "def prune_pattern_members(dist_row):\n",
    "    members_in_radius_index = [index for index,value in enumerate(dist_row) if value < R]\n",
    "    dist_in_radius = [dist_row[i] for i in members_in_radius_index]\n",
    "    members_with_no_overlap_index = [members_in_radius_index[0]]\n",
    "    for i in range(1, len(members_in_radius_index)):\n",
    "        if lists_overlap(members_in_radius_index[i], members_with_no_overlap_index[-1]):\n",
    "            dist_in = dist_in_radius[members_with_no_overlap_index[-1]]\n",
    "            dist_out = dist_in_radius[members_in_radius_index[i]]\n",
    "            if dist_in > dist_out:\n",
    "                members_with_no_overlap_index = members_with_no_overlap_index[:-1]\n",
    "                members_with_no_overlap_index.append(members_in_radius_index[i])\n",
    "        else:\n",
    "            members_with_no_overlap_index.append(members_in_radius_index[i])\n",
    "    return members_with_no_overlap_index\n",
    "\n",
    "\n",
    "def lists_overlap(l1, l2):\n",
    "    intersection_set = set(l1).intersection(set(l2))\n",
    "    overlaping_test = (len(intersection_set) > 0)\n",
    "    return overlaping_test\n",
    "\n",
    "\n",
    "def count_overlaps(point_list):\n",
    "    overlap_count = 0\n",
    "    for i in range(len(point_list)-1):\n",
    "        if lists_overlap(point_list[i], point_list[i+1]):\n",
    "            overlap_count = overlap_count + 1\n",
    "    return overlap_count\n",
    "\n",
    "def count_members_in_pattern(dist_mat, pattern_pos_list):\n",
    "    #count_subseq_list = [sum(row<R)-count_overlaps(pattern_pos_list[row<R]) for row in dist_mat]\n",
    "    count_subseq_list = []\n",
    "    for dist_row in dist_mat:\n",
    "        \n",
    "    return count_subseq_list"
   ]
  },
  {
   "cell_type": "code",
   "execution_count": 26,
   "metadata": {},
   "outputs": [
    {
     "data": {
      "text/plain": [
       "array([3])"
      ]
     },
     "execution_count": 26,
     "metadata": {},
     "output_type": "execute_result"
    }
   ],
   "source": [
    "pattern_pos_list = np.array(pattern_pos_list)\n",
    "pattern_pos_list[pattern_pos_list<4]"
   ]
  },
  {
   "cell_type": "code",
   "execution_count": 28,
   "metadata": {},
   "outputs": [
    {
     "ename": "TypeError",
     "evalue": "'numpy.int64' object is not iterable",
     "output_type": "error",
     "traceback": [
      "\u001b[0;31m---------------------------------------------------------------------------\u001b[0m",
      "\u001b[0;31mTypeError\u001b[0m                                 Traceback (most recent call last)",
      "\u001b[0;32m<ipython-input-28-8e2d49be5e5e>\u001b[0m in \u001b[0;36m<module>\u001b[0;34m\u001b[0m\n\u001b[1;32m      1\u001b[0m \u001b[0mR\u001b[0m \u001b[0;34m=\u001b[0m \u001b[0;36m30\u001b[0m\u001b[0;34m\u001b[0m\u001b[0m\n\u001b[0;32m----> 2\u001b[0;31m \u001b[0mcenter_pos\u001b[0m\u001b[0;34m,\u001b[0m \u001b[0mmembers_pos\u001b[0m\u001b[0;34m,\u001b[0m \u001b[0mmean_dist\u001b[0m \u001b[0;34m=\u001b[0m \u001b[0mfind_index_of_pattern_center_and_members\u001b[0m\u001b[0;34m(\u001b[0m\u001b[0mdist_mat\u001b[0m\u001b[0;34m,\u001b[0m \u001b[0mpattern_pos_list\u001b[0m\u001b[0;34m,\u001b[0m \u001b[0mR\u001b[0m\u001b[0;34m)\u001b[0m\u001b[0;34m\u001b[0m\u001b[0m\n\u001b[0m\u001b[1;32m      3\u001b[0m \u001b[0mprint\u001b[0m\u001b[0;34m(\u001b[0m\u001b[0mcenter_pos\u001b[0m\u001b[0;34m)\u001b[0m\u001b[0;34m\u001b[0m\u001b[0m\n\u001b[1;32m      4\u001b[0m \u001b[0mprint\u001b[0m\u001b[0;34m(\u001b[0m\u001b[0mmembers_pos\u001b[0m\u001b[0;34m)\u001b[0m\u001b[0;34m\u001b[0m\u001b[0m\n",
      "\u001b[0;32m<ipython-input-27-14e8fbeb188e>\u001b[0m in \u001b[0;36mfind_index_of_pattern_center_and_members\u001b[0;34m(dist_mat, pattern_pos_list, R)\u001b[0m\n\u001b[1;32m      2\u001b[0m     \u001b[0;34m\"\"\"Finds the index of the motif's center and members\"\"\"\u001b[0m\u001b[0;34m\u001b[0m\u001b[0m\n\u001b[1;32m      3\u001b[0m     \u001b[0mpattern_pos_list\u001b[0m \u001b[0;34m=\u001b[0m \u001b[0mnp\u001b[0m\u001b[0;34m.\u001b[0m\u001b[0marray\u001b[0m\u001b[0;34m(\u001b[0m\u001b[0mpattern_pos_list\u001b[0m\u001b[0;34m)\u001b[0m\u001b[0;34m\u001b[0m\u001b[0m\n\u001b[0;32m----> 4\u001b[0;31m     \u001b[0mcount_subseq_list\u001b[0m \u001b[0;34m=\u001b[0m \u001b[0;34m[\u001b[0m\u001b[0msum\u001b[0m\u001b[0;34m(\u001b[0m\u001b[0mrow\u001b[0m\u001b[0;34m<\u001b[0m\u001b[0mR\u001b[0m\u001b[0;34m)\u001b[0m\u001b[0;34m-\u001b[0m\u001b[0mcount_overlaps\u001b[0m\u001b[0;34m(\u001b[0m\u001b[0mpattern_pos_list\u001b[0m\u001b[0;34m[\u001b[0m\u001b[0mrow\u001b[0m\u001b[0;34m<\u001b[0m\u001b[0mR\u001b[0m\u001b[0;34m]\u001b[0m\u001b[0;34m)\u001b[0m \u001b[0;32mfor\u001b[0m \u001b[0mrow\u001b[0m \u001b[0;32min\u001b[0m \u001b[0mdist_mat\u001b[0m\u001b[0;34m]\u001b[0m\u001b[0;34m\u001b[0m\u001b[0m\n\u001b[0m\u001b[1;32m      5\u001b[0m     \u001b[0mmax_count\u001b[0m \u001b[0;34m=\u001b[0m \u001b[0mmax\u001b[0m\u001b[0;34m(\u001b[0m\u001b[0mcount_subseq_list\u001b[0m\u001b[0;34m)\u001b[0m\u001b[0;34m\u001b[0m\u001b[0m\n\u001b[1;32m      6\u001b[0m     \u001b[0msum_dist_list\u001b[0m \u001b[0;34m=\u001b[0m \u001b[0;34m[\u001b[0m\u001b[0;34m]\u001b[0m\u001b[0;34m\u001b[0m\u001b[0m\n",
      "\u001b[0;32m<ipython-input-27-14e8fbeb188e>\u001b[0m in \u001b[0;36m<listcomp>\u001b[0;34m(.0)\u001b[0m\n\u001b[1;32m      2\u001b[0m     \u001b[0;34m\"\"\"Finds the index of the motif's center and members\"\"\"\u001b[0m\u001b[0;34m\u001b[0m\u001b[0m\n\u001b[1;32m      3\u001b[0m     \u001b[0mpattern_pos_list\u001b[0m \u001b[0;34m=\u001b[0m \u001b[0mnp\u001b[0m\u001b[0;34m.\u001b[0m\u001b[0marray\u001b[0m\u001b[0;34m(\u001b[0m\u001b[0mpattern_pos_list\u001b[0m\u001b[0;34m)\u001b[0m\u001b[0;34m\u001b[0m\u001b[0m\n\u001b[0;32m----> 4\u001b[0;31m     \u001b[0mcount_subseq_list\u001b[0m \u001b[0;34m=\u001b[0m \u001b[0;34m[\u001b[0m\u001b[0msum\u001b[0m\u001b[0;34m(\u001b[0m\u001b[0mrow\u001b[0m\u001b[0;34m<\u001b[0m\u001b[0mR\u001b[0m\u001b[0;34m)\u001b[0m\u001b[0;34m-\u001b[0m\u001b[0mcount_overlaps\u001b[0m\u001b[0;34m(\u001b[0m\u001b[0mpattern_pos_list\u001b[0m\u001b[0;34m[\u001b[0m\u001b[0mrow\u001b[0m\u001b[0;34m<\u001b[0m\u001b[0mR\u001b[0m\u001b[0;34m]\u001b[0m\u001b[0;34m)\u001b[0m \u001b[0;32mfor\u001b[0m \u001b[0mrow\u001b[0m \u001b[0;32min\u001b[0m \u001b[0mdist_mat\u001b[0m\u001b[0;34m]\u001b[0m\u001b[0;34m\u001b[0m\u001b[0m\n\u001b[0m\u001b[1;32m      5\u001b[0m     \u001b[0mmax_count\u001b[0m \u001b[0;34m=\u001b[0m \u001b[0mmax\u001b[0m\u001b[0;34m(\u001b[0m\u001b[0mcount_subseq_list\u001b[0m\u001b[0;34m)\u001b[0m\u001b[0;34m\u001b[0m\u001b[0m\n\u001b[1;32m      6\u001b[0m     \u001b[0msum_dist_list\u001b[0m \u001b[0;34m=\u001b[0m \u001b[0;34m[\u001b[0m\u001b[0;34m]\u001b[0m\u001b[0;34m\u001b[0m\u001b[0m\n",
      "\u001b[0;32m<ipython-input-27-14e8fbeb188e>\u001b[0m in \u001b[0;36mcount_overlaps\u001b[0;34m(point_list)\u001b[0m\n\u001b[1;32m     48\u001b[0m     \u001b[0moverlap_count\u001b[0m \u001b[0;34m=\u001b[0m \u001b[0;36m0\u001b[0m\u001b[0;34m\u001b[0m\u001b[0m\n\u001b[1;32m     49\u001b[0m     \u001b[0;32mfor\u001b[0m \u001b[0mi\u001b[0m \u001b[0;32min\u001b[0m \u001b[0mrange\u001b[0m\u001b[0;34m(\u001b[0m\u001b[0mlen\u001b[0m\u001b[0;34m(\u001b[0m\u001b[0mpoint_list\u001b[0m\u001b[0;34m)\u001b[0m\u001b[0;34m-\u001b[0m\u001b[0;36m1\u001b[0m\u001b[0;34m)\u001b[0m\u001b[0;34m:\u001b[0m\u001b[0;34m\u001b[0m\u001b[0m\n\u001b[0;32m---> 50\u001b[0;31m         \u001b[0;32mif\u001b[0m \u001b[0mlists_overlap\u001b[0m\u001b[0;34m(\u001b[0m\u001b[0mpoint_list\u001b[0m\u001b[0;34m[\u001b[0m\u001b[0mi\u001b[0m\u001b[0;34m]\u001b[0m\u001b[0;34m,\u001b[0m \u001b[0mpoint_list\u001b[0m\u001b[0;34m[\u001b[0m\u001b[0mi\u001b[0m\u001b[0;34m+\u001b[0m\u001b[0;36m1\u001b[0m\u001b[0;34m]\u001b[0m\u001b[0;34m)\u001b[0m\u001b[0;34m:\u001b[0m\u001b[0;34m\u001b[0m\u001b[0m\n\u001b[0m\u001b[1;32m     51\u001b[0m             \u001b[0moverlap_count\u001b[0m \u001b[0;34m=\u001b[0m \u001b[0moverlap_count\u001b[0m \u001b[0;34m+\u001b[0m \u001b[0;36m1\u001b[0m\u001b[0;34m\u001b[0m\u001b[0m\n\u001b[1;32m     52\u001b[0m     \u001b[0;32mreturn\u001b[0m \u001b[0moverlap_count\u001b[0m\u001b[0;34m\u001b[0m\u001b[0m\n",
      "\u001b[0;32m<ipython-input-27-14e8fbeb188e>\u001b[0m in \u001b[0;36mlists_overlap\u001b[0;34m(l1, l2)\u001b[0m\n\u001b[1;32m     40\u001b[0m \u001b[0;34m\u001b[0m\u001b[0m\n\u001b[1;32m     41\u001b[0m \u001b[0;32mdef\u001b[0m \u001b[0mlists_overlap\u001b[0m\u001b[0;34m(\u001b[0m\u001b[0ml1\u001b[0m\u001b[0;34m,\u001b[0m \u001b[0ml2\u001b[0m\u001b[0;34m)\u001b[0m\u001b[0;34m:\u001b[0m\u001b[0;34m\u001b[0m\u001b[0m\n\u001b[0;32m---> 42\u001b[0;31m     \u001b[0mintersection_set\u001b[0m \u001b[0;34m=\u001b[0m \u001b[0mset\u001b[0m\u001b[0;34m(\u001b[0m\u001b[0ml1\u001b[0m\u001b[0;34m)\u001b[0m\u001b[0;34m.\u001b[0m\u001b[0mintersection\u001b[0m\u001b[0;34m(\u001b[0m\u001b[0mset\u001b[0m\u001b[0;34m(\u001b[0m\u001b[0ml2\u001b[0m\u001b[0;34m)\u001b[0m\u001b[0;34m)\u001b[0m\u001b[0;34m\u001b[0m\u001b[0m\n\u001b[0m\u001b[1;32m     43\u001b[0m     \u001b[0moverlaping_test\u001b[0m \u001b[0;34m=\u001b[0m \u001b[0;34m(\u001b[0m\u001b[0mlen\u001b[0m\u001b[0;34m(\u001b[0m\u001b[0mintersection_set\u001b[0m\u001b[0;34m)\u001b[0m \u001b[0;34m>\u001b[0m \u001b[0;36m0\u001b[0m\u001b[0;34m)\u001b[0m\u001b[0;34m\u001b[0m\u001b[0m\n\u001b[1;32m     44\u001b[0m     \u001b[0;32mreturn\u001b[0m \u001b[0moverlaping_test\u001b[0m\u001b[0;34m\u001b[0m\u001b[0m\n",
      "\u001b[0;31mTypeError\u001b[0m: 'numpy.int64' object is not iterable"
     ]
    }
   ],
   "source": [
    "R = 30\n",
    "center_pos, members_pos, mean_dist = find_index_of_pattern_center_and_members(dist_mat, pattern_pos_list, R)\n",
    "print(center_pos)\n",
    "print(members_pos)"
   ]
  },
  {
   "cell_type": "markdown",
   "metadata": {},
   "source": [
    "## 8. Compute MDL\n",
    "\n",
    "**input:**\n",
    "\n",
    "**output:** "
   ]
  },
  {
   "cell_type": "code",
   "execution_count": null,
   "metadata": {},
   "outputs": [],
   "source": [
    "def break_bs_len_seq(bs_len, break_points, subseq_size):\n",
    "    bs_len_break = []\n",
    "    if break_points[0] > 0:\n",
    "        first_seq = bs_len[0:break_points[0]]\n",
    "        bs_len_break.append(first_seq)\n",
    "    for i in range(len(break_points)-1):\n",
    "        pattern_seq = bs_len[break_points[i]:break_points[i]+subseq_size]\n",
    "        bs_len_break.append(pattern_seq)\n",
    "        next_seq = bs_len[break_points[i]+subseq_size:break_points[i+1]]\n",
    "        bs_len_break.append(next_seq)\n",
    "    final_pattern_seq = bs_len[break_points[-1]:break_points[-1]+subseq_size]\n",
    "    bs_len_break.append(final_pattern_seq)\n",
    "    if break_points[-1]+subseq_size < len(bs_len)-1:\n",
    "        final_seq = bs_len[break_points[-1]+subseq_size:]\n",
    "        bs_len_break.append(final_seq)\n",
    "    return bs_len_break"
   ]
  },
  {
   "cell_type": "code",
   "execution_count": null,
   "metadata": {},
   "outputs": [],
   "source": [
    "bs_segmentation_len_list = break_bs_len_seq(bs_len, members_pos, subseq_size)\n",
    "print([len(seq) for seq in bs_segmentation_len_list])"
   ]
  },
  {
   "cell_type": "code",
   "execution_count": null,
   "metadata": {},
   "outputs": [],
   "source": [
    "def compute_pattern_mdl(seg_len_list):\n",
    "    par_cost_list = []\n",
    "    data_cost_list = []\n",
    "    for seg in seg_len_list:\n",
    "        seg_len_sum = float(sum(seg))\n",
    "        seg_par_cost = math.log2(seg_len_sum)\n",
    "        par_cost_list.append(seg_par_cost)\n",
    "        seg_data_cost_list = [-l*math.log2(l/seg_len_sum) for l in seg]\n",
    "        seg_data_cost = sum(seg_data_cost_list)\n",
    "        data_cost_list.append(seg_data_cost)\n",
    "    par_cost = sum(par_cost_list)\n",
    "    data_cost = sum(data_cost_list)\n",
    "    seg_cost = len(seg_len_list)*math.log2(sum(np.concatenate(seg_len_list)))\n",
    "    mdl_cost = par_cost + data_cost + seg_cost\n",
    "    return mdl_cost"
   ]
  },
  {
   "cell_type": "code",
   "execution_count": null,
   "metadata": {},
   "outputs": [],
   "source": [
    "compute_pattern_mdl(bs_segmentation_len_list)"
   ]
  },
  {
   "cell_type": "markdown",
   "metadata": {},
   "source": [
    "## Extact all motif candidates\n",
    "\n",
    "5. Find all the motif candidates:\n",
    "    1. Set the size of analysis window, W, to `T_min`.\n",
    "    2. Extract all modified BS subsequences under the analysis window, by sliding the window from left to right. Find some DL pattern from these subsequences, if any. If there exists no DL pattern found and the window is now at the end of the Modified BS sequence, go to step 6.\n",
    "    3. From the set of all pattern instances found in 5.B, establish the distance matrix for them (using DTW distance to calculate the distances between them). Call the procedure `Extract_Motif_Candidate` to find the motif candidate from the distance matrix, and calculate the MDL value of the candidate.\n",
    "    4. Add the motif candidate to the result list along with its MDL value.\n",
    "    5. Increase the size of the analysis window (i.e., Set W: = W + 1), go to 5.2\n",
    "6. From the result list, find the motif candidate with the smallest MDL value. The found motif will be the returned result\n",
    "\n",
    "**input:** ts, bs_seq, bs_point, R\n",
    "\n",
    "**output:** motif_mdl, motif_pointers, "
   ]
  },
  {
   "cell_type": "code",
   "execution_count": null,
   "metadata": {},
   "outputs": [],
   "source": [
    "def find_all_motif_candidates(ts, bs_seq, bs_len, bs_point, R):\n",
    "    # initialize the output lists\n",
    "    mdl_cost_list = []\n",
    "    motif_point_list = []\n",
    "    pattern_list = []\n",
    "    # initialize the size of the BS subsequences\n",
    "    subseq_size = 1\n",
    "    while True:\n",
    "        subseq_bs_list, subseq_point_list = get_bs_subsequences_list(bs_seq, bs_point, subseq_size)\n",
    "        subseq_bs_set = [list(item) for item in set(tuple(row) for row in subseq_bs_list)]\n",
    "        if len(subseq_bs_list)==len(subseq_bs_set):\n",
    "            break\n",
    "        for pattern in subseq_bs_set:\n",
    "            pattern_ts_list, pattern_pos_list = get_all_subsequences_in_pattern(ts, subseq_bs_list, subseq_point_list, pattern)\n",
    "            # if the pattern only has one subsequence, then it is not a motif\n",
    "            if len(pattern_pos_list) < 2:\n",
    "                continue\n",
    "            dist_mat = compute_dtw_dist_mat(pattern_ts_list)\n",
    "            # compute the center the the members of the motif candidate and\n",
    "            # return their position in the BS subsequence\n",
    "            center_pos, members_pos = find_index_of_pattern_center_and_members(dist_mat, pattern_pos_list, R)\n",
    "            # if the pattern only has one subsequence, then it is not a motif\n",
    "            if len(members_pos) < 2:\n",
    "                continue\n",
    "            # get the segmentation of the BS subseq fo lenghts, based on the motif (the motif segmentation)\n",
    "            bs_segmentation_len_list = break_bs_len_seq(bs_len, members_pos, subseq_size)\n",
    "            # Exclude empty lists (happens when there's overlapping patterns) --------------------------------------------- NEED TO CORRECT THIS!!!!\n",
    "            bs_segmentation_len_list = [item for item in bs_segmentation_len_list if len(item)>0]\n",
    "            # compute the MDL of the motif segmentation and append it to the list\n",
    "            mdl_cost = compute_pattern_mdl(bs_segmentation_len_list)\n",
    "            mdl_cost_list.append(mdl_cost)\n",
    "            # extract the motif pointers (i.e. indices of the ts where all the motif members are located)\n",
    "            # and append it to the list\n",
    "            motif_point = [subseq_point_list[i] for i in members_pos]\n",
    "            motif_point_list.append(motif_point)\n",
    "            # append the pattern to the pattern list\n",
    "            pattern_list.append(pattern)\n",
    "        print('motif candidates of size {} successfully extracted'.format(subseq_size))\n",
    "        # go to the next subsequence size\n",
    "        subseq_size = subseq_size + 1\n",
    "    return mdl_cost_list, motif_point_list, pattern_list"
   ]
  },
  {
   "cell_type": "code",
   "execution_count": null,
   "metadata": {},
   "outputs": [],
   "source": [
    "start_time = time.time()\n",
    "\n",
    "R = 30\n",
    "mdl_cost_list, motif_point_list, pattern_list = find_all_motif_candidates(ts_1d, bs_seq, bs_len, bs_point, R)\n",
    "\n",
    "pickle.dump(ts_1d, open(\"ts_1d.p\", \"wb\"))\n",
    "pickle.dump(mdl_cost_list, open(\"mdl_cost.p\", \"wb\"))\n",
    "pickle.dump(motif_point_list, open(\"motif_point.p\", \"wb\"))\n",
    "pickle.dump(pattern_list, open(\"patterns.p\", \"wb\"))\n",
    "\n",
    "print(\"All motif candidates algorithm run in {} minutes\".format(round((time.time() - start_time)/60, 2)))"
   ]
  },
  {
   "cell_type": "code",
   "execution_count": null,
   "metadata": {},
   "outputs": [],
   "source": [
    "pd.Series(mdl_cost_list).describe()"
   ]
  },
  {
   "cell_type": "code",
   "execution_count": null,
   "metadata": {},
   "outputs": [],
   "source": []
  }
 ],
 "metadata": {
  "kernelspec": {
   "display_name": "Python 3",
   "language": "python",
   "name": "python3"
  },
  "language_info": {
   "codemirror_mode": {
    "name": "ipython",
    "version": 3
   },
   "file_extension": ".py",
   "mimetype": "text/x-python",
   "name": "python",
   "nbconvert_exporter": "python",
   "pygments_lexer": "ipython3",
   "version": "3.6.5"
  }
 },
 "nbformat": 4,
 "nbformat_minor": 2
}
