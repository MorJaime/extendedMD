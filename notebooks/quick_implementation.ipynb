{
 "cells": [
  {
   "cell_type": "markdown",
   "metadata": {},
   "source": [
    "# EMD algorithm - quick and dirty implementation\n",
    "\n",
    "## Maria Inês Silva\n",
    "## 07/01/2019\n",
    "\n",
    "***"
   ]
  },
  {
   "cell_type": "markdown",
   "metadata": {},
   "source": [
    "## Pseudo-code from the paper\n",
    "\n",
    "The efficient EMD paper uses the following parameter setting:\n",
    "* Tmin - the minimum length of analysis window (in data points).\n",
    "* a - the SAX alphabet size.\n",
    "* w - the number of SAX symbols in one BS.\n",
    "* aw - the size of the analysis window, which is measured in the number of BSs.\n",
    "\n",
    "### Algorithm EMD\n",
    "\n",
    "1. Transform the original time series to PAA representation, using a slideing window of size `T_min`.\n",
    "2. Transform the PAA reduced time series to SAX symbol sequence.\n",
    "3. Transform the SAX symbol sequence to BS sequence.\n",
    "4. Transform the BS sequence to Modified BS sequence.\n",
    "5. Find all the motif candidates:\n",
    "    1. Set the size of analysis window, W, to `T_min`.\n",
    "    2. Extract all modified BS subsequences under the analysis window, by sliding the window from left to right. Find some DL pattern from these subsequences, if any. If there exists no DL pattern found and the window is now at the end of the Modified BS sequence, go to step 6.\n",
    "    3. From the set of all pattern instances found in 5.B, establish the distance matrix for them (using DTW distance to calculate the distances between them). Call the procedure `Extract_Motif_Candidate` to find the motif candidate from the distance matrix, and calculate the MDL value of the candidate.\n",
    "    4. Add the motif candidate to the result list along with its MDL value.\n",
    "    5. Increase the size of the analysis window (i.e., Set W: = W + 1), go to 5.2\n",
    "6. From the result list, find the motif candidate with the smallest MDL value. The found motif will be the returned result\n",
    "\n",
    "### Algorithm `Extract_Motif_Candidate`\n",
    "\n",
    "1. For each TSS in the distance matrix, identify all the other TSS which are similar to it (i.e., the distance between them is less than the threshold R).\n",
    "2. Select as the pattern instances the TSSs which have the highest count of its similar subsequence.\n",
    "3. Among the pattern instances selected in step 2, determine the instance which has the smallest sum of distances to all the other instances. This one is considered as the centre of the pattern (that means a motif candidate).\n",
    "\n",
    "***"
   ]
  },
  {
   "cell_type": "markdown",
   "metadata": {},
   "source": [
    "## Data and library imports"
   ]
  },
  {
   "cell_type": "code",
   "execution_count": 2,
   "metadata": {},
   "outputs": [],
   "source": [
    "import numpy as np\n",
    "import pandas as pd\n",
    "import os\n",
    "from dtaidistance import dtw"
   ]
  },
  {
   "cell_type": "code",
   "execution_count": 3,
   "metadata": {},
   "outputs": [
    {
     "data": {
      "text/plain": [
       "'/Users/misilva73/Documents/Tese/extendedMD/data'"
      ]
     },
     "execution_count": 3,
     "metadata": {},
     "output_type": "execute_result"
    }
   ],
   "source": [
    "cwd = os.getcwd()\n",
    "data_folder = os.path.abspath(os.path.join(cwd, os.pardir, 'data'))\n",
    "data_folder"
   ]
  },
  {
   "cell_type": "code",
   "execution_count": 4,
   "metadata": {},
   "outputs": [
    {
     "data": {
      "text/html": [
       "<div>\n",
       "<style scoped>\n",
       "    .dataframe tbody tr th:only-of-type {\n",
       "        vertical-align: middle;\n",
       "    }\n",
       "\n",
       "    .dataframe tbody tr th {\n",
       "        vertical-align: top;\n",
       "    }\n",
       "\n",
       "    .dataframe thead th {\n",
       "        text-align: right;\n",
       "    }\n",
       "</style>\n",
       "<table border=\"1\" class=\"dataframe\">\n",
       "  <thead>\n",
       "    <tr style=\"text-align: right;\">\n",
       "      <th></th>\n",
       "      <th>ay</th>\n",
       "      <th>az</th>\n",
       "    </tr>\n",
       "  </thead>\n",
       "  <tbody>\n",
       "    <tr>\n",
       "      <th>0</th>\n",
       "      <td>-0.034</td>\n",
       "      <td>0.013</td>\n",
       "    </tr>\n",
       "    <tr>\n",
       "      <th>1</th>\n",
       "      <td>-0.005</td>\n",
       "      <td>0.003</td>\n",
       "    </tr>\n",
       "    <tr>\n",
       "      <th>2</th>\n",
       "      <td>0.006</td>\n",
       "      <td>0.010</td>\n",
       "    </tr>\n",
       "    <tr>\n",
       "      <th>3</th>\n",
       "      <td>0.004</td>\n",
       "      <td>-0.012</td>\n",
       "    </tr>\n",
       "    <tr>\n",
       "      <th>4</th>\n",
       "      <td>-0.012</td>\n",
       "      <td>-0.027</td>\n",
       "    </tr>\n",
       "  </tbody>\n",
       "</table>\n",
       "</div>"
      ],
      "text/plain": [
       "      ay     az\n",
       "0 -0.034  0.013\n",
       "1 -0.005  0.003\n",
       "2  0.006  0.010\n",
       "3  0.004 -0.012\n",
       "4 -0.012 -0.027"
      ]
     },
     "execution_count": 4,
     "metadata": {},
     "output_type": "execute_result"
    }
   ],
   "source": [
    "ay = pd.read_csv(os.path.join(data_folder, 'ay.csv'), names=['ay'])\n",
    "az = pd.read_csv(os.path.join(data_folder, 'az.csv'), names=['az'])\n",
    "\n",
    "data = ay.assign(az = az['az'])\n",
    "data.head()"
   ]
  },
  {
   "cell_type": "markdown",
   "metadata": {},
   "source": [
    "## 1. PCA\n",
    "\n",
    "**input:** data (pandas dataframe where each column is a timeseries.Number of columns is the number of variable to apply pca)\n",
    "\n",
    "**output:** numpy array that represents the 1-dimensional time series resulting from the PCA."
   ]
  },
  {
   "cell_type": "code",
   "execution_count": 5,
   "metadata": {},
   "outputs": [],
   "source": [
    "def extract_pca_ts(multi_dim_ts):\n",
    "    # compute vector with the mean of each time series\n",
    "    means_vec = data.agg('mean').values\n",
    "    # compute the covariance matrix of the multi-dim time-series data\n",
    "    cov_mat = multi_dim_ts.cov().values\n",
    "    # extract eigenvalues and eigenvectors (the PCs) of the covariance matrix\n",
    "    e_val, e_vec = np.linalg.eigh(cov_mat)\n",
    "    # get the eigenvector with the highest eigenvalue (i.e. the 1st PC)\n",
    "    pc1_vec = e_vec[np.argmax(e_val)]\n",
    "    # compute the 1-dim time series as the data's projection on the 1st PC\n",
    "    ts_1d = np.dot((multi_dim_ts.values - means_vec), pc1_vec)\n",
    "    return ts_1d"
   ]
  },
  {
   "cell_type": "code",
   "execution_count": 6,
   "metadata": {},
   "outputs": [
    {
     "data": {
      "text/plain": [
       "array([ 0.03494258,  0.00693807, -0.00463669, ..., -0.04965133,\n",
       "       -0.07109884, -0.07675976])"
      ]
     },
     "execution_count": 6,
     "metadata": {},
     "output_type": "execute_result"
    }
   ],
   "source": [
    "ts_1d = extract_pca_ts(data)\n",
    "ts_1d"
   ]
  },
  {
   "cell_type": "markdown",
   "metadata": {},
   "source": [
    "## 2. SAX\n",
    "\n",
    "Code based on the function `sax_via_window` from `saxpy.sax`.\n",
    "\n",
    "**input:** 1-d time series, sliding window size, PAA representation size, alphabet size and z-normalization threshold (??)\n",
    "\n",
    "**output:** list of sax words (one word per sliding window)"
   ]
  },
  {
   "cell_type": "code",
   "execution_count": 7,
   "metadata": {},
   "outputs": [],
   "source": [
    "from saxpy.znorm import znorm\n",
    "from saxpy.paa import paa\n",
    "from saxpy.alphabet import cuts_for_asize\n",
    "from saxpy.sax import ts_to_string\n",
    "\n",
    "def extract_sax_sequence(ts, win_size, paa_size, alphabet_size=3, z_threshold=0.01):\n",
    "    # initialize list with sax sequence\n",
    "    sax_sequence = []\n",
    "    # get the cuts thresholds based on the gaussian distribution\n",
    "    cuts = cuts_for_asize(alphabet_size)\n",
    "    for t in range(0, len(ts) - win_size):\n",
    "        # define the current window\n",
    "        ts_win = ts[t:(t+win_size)]\n",
    "        # normalize the window\n",
    "        ts_win_normalized = znorm(ts_win, z_threshold)\n",
    "        # compute PAA representation of normalized window\n",
    "        paa_rep = paa(ts_win_normalized, paa_size)\n",
    "        # compute sax representation of PAA representation\n",
    "        sax_word = ts_to_string(paa_rep, cuts)\n",
    "        # append sax word to sax sequence list\n",
    "        sax_sequence.append(sax_word)\n",
    "    return sax_sequence"
   ]
  },
  {
   "cell_type": "code",
   "execution_count": 8,
   "metadata": {},
   "outputs": [
    {
     "data": {
      "text/plain": [
       "(array(['aac', 'abb', 'abc', 'aca', 'acb', 'acc', 'bab', 'bac', 'bba',\n",
       "        'bbb', 'bbc', 'bca', 'bcb', 'caa', 'cab', 'cac', 'cba', 'cbb',\n",
       "        'cca'], dtype='<U3'),\n",
       " array([ 291,  158, 1254,  122,  752,  244,  120,  725,  145, 1294,  126,\n",
       "         736,  103,  263,  794,  100, 1368,  115,  267]))"
      ]
     },
     "execution_count": 8,
     "metadata": {},
     "output_type": "execute_result"
    }
   ],
   "source": [
    "win_size=9\n",
    "paa_size=3\n",
    "alphabet_size=3\n",
    "\n",
    "sax_sequence = extract_sax_sequence(ts_1d, win_size, paa_size, alphabet_size)\n",
    "np.unique(sax_sequence, return_counts=True)"
   ]
  },
  {
   "cell_type": "markdown",
   "metadata": {},
   "source": [
    "## 3. Extract modified BS-sequence\n",
    "\n",
    "**input:** sax sequence\n",
    "\n",
    "**output:** a list with the modified bs sequence and a list with the lenght of each bs in the sequence (if there were two sax words together, then the lenght of the result bs sequence is 2)"
   ]
  },
  {
   "cell_type": "code",
   "execution_count": 45,
   "metadata": {},
   "outputs": [],
   "source": [
    "def get_modified_bs_sequence(sax_sequence):\n",
    "    # initialize the lists to save the bs and their lenghts\n",
    "    bs_sequence = []\n",
    "    bs_lengths = []\n",
    "    # initialize the bs lenght counter\n",
    "    curr_len = 1\n",
    "    for i in range(len(sax_sequence)):\n",
    "        # set the current bs element\n",
    "        curr_bs = sax_sequence[i]\n",
    "        # set the nex bs element\n",
    "        if i<len(sax_sequence)-1:\n",
    "            next_bs = sax_sequence[i+1]\n",
    "        else: # if the current element is the last, then thre's no \"next_bs\"\n",
    "            next_bs = ''\n",
    "        # test if the current bs is equal to the next bs\n",
    "        if curr_bs==next_bs:\n",
    "            # if yes, add 1 to the current lenght counter\n",
    "            curr_len = curr_len + 1\n",
    "        else:\n",
    "            # if no, save the bs and its lenght in the corresponding lists\n",
    "            bs_sequence.append(curr_bs)\n",
    "            bs_lengths.append(curr_len)\n",
    "            # and initialize the lenght counter\n",
    "            curr_len = 1\n",
    "    return bs_sequence, bs_lengths"
   ]
  },
  {
   "cell_type": "code",
   "execution_count": 46,
   "metadata": {},
   "outputs": [],
   "source": [
    "bs_sequence, bs_lengths = get_modified_bs_sequence(sax_sequence)"
   ]
  },
  {
   "cell_type": "markdown",
   "metadata": {},
   "source": [
    "## 5. Compute MDL\n",
    "\n",
    "**input:**\n",
    "\n",
    "**output:** "
   ]
  },
  {
   "cell_type": "code",
   "execution_count": null,
   "metadata": {},
   "outputs": [],
   "source": []
  },
  {
   "cell_type": "markdown",
   "metadata": {},
   "source": [
    "## 6. Extact all motif candidates\n",
    "\n",
    "**input:**\n",
    "\n",
    "**output:** "
   ]
  },
  {
   "cell_type": "code",
   "execution_count": null,
   "metadata": {},
   "outputs": [],
   "source": [
    "def compute_dtw_dist_mat(ts_list, R):\n",
    "    dist_matrix_vec = dtw.distance_matrix(ts_list, parallel=True, max_dist=R)\n",
    "    dist_matrix = np.triu(dist_matrix_vec) + np.triu(dist_matrix_vec).T\n",
    "    np.fill_diagonal(dist_matrix, 0)\n",
    "    return dist_matrix"
   ]
  },
  {
   "cell_type": "markdown",
   "metadata": {},
   "source": [
    "## 4. `Extract_Motif_Candidate`\n",
    "\n",
    "**input:** \n",
    "\n",
    "**output:** "
   ]
  },
  {
   "cell_type": "code",
   "execution_count": null,
   "metadata": {},
   "outputs": [],
   "source": []
  }
 ],
 "metadata": {
  "kernelspec": {
   "display_name": "Python 3",
   "language": "python",
   "name": "python3"
  },
  "language_info": {
   "codemirror_mode": {
    "name": "ipython",
    "version": 3
   },
   "file_extension": ".py",
   "mimetype": "text/x-python",
   "name": "python",
   "nbconvert_exporter": "python",
   "pygments_lexer": "ipython3",
   "version": "3.6.5"
  }
 },
 "nbformat": 4,
 "nbformat_minor": 2
}
